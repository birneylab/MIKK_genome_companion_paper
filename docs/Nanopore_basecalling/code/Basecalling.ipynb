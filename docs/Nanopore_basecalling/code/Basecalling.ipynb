{
 "cells": [
  {
   "cell_type": "markdown",
   "metadata": {},
   "source": [
    "# Basecalling"
   ]
  },
  {
   "cell_type": "markdown",
   "metadata": {
    "heading_collapsed": true
   },
   "source": [
    "## Imports "
   ]
  },
  {
   "cell_type": "code",
   "execution_count": 1,
   "metadata": {
    "ExecuteTime": {
     "end_time": "2021-02-11T15:33:55.779103Z",
     "start_time": "2021-02-11T15:33:28.654988Z"
    },
    "hidden": true,
    "init_cell": true,
    "scrolled": true
   },
   "outputs": [
    {
     "name": "stderr",
     "output_type": "stream",
     "text": [
      "\n",
      "Bad key \"text.kerning_factor\" on line 4 in\n",
      "/nfs/software/birney/adrien/miniconda3/envs/Python3.7/lib/python3.7/site-packages/matplotlib/mpl-data/stylelib/_classic_test_patch.mplstyle.\n",
      "You probably need to get an updated matplotlibrc file from\n",
      "https://github.com/matplotlib/matplotlib/blob/v3.1.3/matplotlibrc.template\n",
      "or from the matplotlib source distribution\n"
     ]
    }
   ],
   "source": [
    "# Standard lib imports\n",
    "import os\n",
    "from datetime import date\n",
    "from collections import *\n",
    "from glob import glob, iglob\n",
    "from shutil import rmtree\n",
    "import itertools\n",
    "from pprint import pprint as pp\n",
    "\n",
    "# Generic third party imports\n",
    "from pycltools.pycltools import *\n",
    "import pysam\n",
    "import pyfaidx\n",
    "from pyBioTools import Fastq\n",
    "from pycoQC.pycoQC import pycoQC\n",
    "from pycoQC.Barcode_split import Barcode_split\n",
    "\n",
    "# Ploting lib imports\n",
    "import matplotlib.pyplot as pl\n",
    "import seaborn as sns\n",
    "%matplotlib inline\n",
    "\n",
    "# Data wrangling lib imports\n",
    "import pandas as pd\n",
    "import numpy as np\n",
    "import scipy as sp\n",
    "pd.options.display.max_colwidth = 200\n",
    "pd.options.display.max_columns = 200\n",
    "pd.options.display.max_rows = 50\n",
    "pd.options.display.min_rows = 50"
   ]
  },
  {
   "cell_type": "markdown",
   "metadata": {
    "heading_collapsed": true
   },
   "source": [
    "## Guppy Basecalling"
   ]
  },
  {
   "cell_type": "code",
   "execution_count": 2,
   "metadata": {
    "ExecuteTime": {
     "end_time": "2020-08-14T10:05:15.171547Z",
     "start_time": "2020-08-14T10:05:15.101881Z"
    },
    "hidden": true
   },
   "outputs": [
    {
     "name": "stdout",
     "output_type": "stream",
     "text": [
      "Creating /hps/research1/birney/users/adrien/datasets/medaka_DNA_promethion/brain_run2/fastq\n"
     ]
    }
   ],
   "source": [
    "shutil.rmtree(\"fastq\", ignore_errors=True)\n",
    "mkdir(\"fastq\")"
   ]
  },
  {
   "cell_type": "code",
   "execution_count": 13,
   "metadata": {
    "ExecuteTime": {
     "end_time": "2020-08-14T13:05:46.441742Z",
     "start_time": "2020-08-14T13:05:43.872634Z"
    },
    "hidden": true,
    "scrolled": true
   },
   "outputs": [
    {
     "name": "stdout",
     "output_type": "stream",
     "text": [
      "DN467851H_C4_F4_H4_A5\n",
      "bsub -J Guppy_DN467851H_C4_F4_H4_A5 -M 20000 -R 'rusage[mem=20000]' -oo ./fastq/guppy_4.0.14/DN467851H_C4_F4_H4_A5/bsub.err -eo ./fastq/guppy_4.0.14/DN467851H_C4_F4_H4_A5/bsub.out -P gpu -gpu - -m gpu-010  \"ont_guppy_4.0.14 -i fast5/DN467851H_C4_F4_H4_A5 -s ./fastq/guppy_4.0.14/DN467851H_C4_F4_H4_A5 --calib_detect -c dna_r9.4.1_450bps_hac_prom.cfg --num_callers 16 --recursive --device 'auto' --records_per_fastq 0 --disable_pings --compress_fastq --barcode_kits EXP-NBD104 --trim_barcodes\"\n",
      "Job <9874305> is submitted to default queue <research-rh74>.\n",
      "DN467851H_B2_C2_E2_F2\n",
      "bsub -J Guppy_DN467851H_B2_C2_E2_F2 -M 20000 -R 'rusage[mem=20000]' -oo ./fastq/guppy_4.0.14/DN467851H_B2_C2_E2_F2/bsub.err -eo ./fastq/guppy_4.0.14/DN467851H_B2_C2_E2_F2/bsub.out -P gpu -gpu - -m gpu-010  \"ont_guppy_4.0.14 -i fast5/DN467851H_B2_C2_E2_F2 -s ./fastq/guppy_4.0.14/DN467851H_B2_C2_E2_F2 --calib_detect -c dna_r9.4.1_450bps_hac_prom.cfg --num_callers 16 --recursive --device 'auto' --records_per_fastq 0 --disable_pings --compress_fastq --barcode_kits EXP-NBD104 --trim_barcodes\"\n",
      "Job <9874314> is submitted to default queue <research-rh74>.\n",
      "DN467851H_A3_F3_G3_H3\n",
      "bsub -J Guppy_DN467851H_A3_F3_G3_H3 -M 20000 -R 'rusage[mem=20000]' -oo ./fastq/guppy_4.0.14/DN467851H_A3_F3_G3_H3/bsub.err -eo ./fastq/guppy_4.0.14/DN467851H_A3_F3_G3_H3/bsub.out -P gpu -gpu - -m gpu-010  \"ont_guppy_4.0.14 -i fast5/DN467851H_A3_F3_G3_H3 -s ./fastq/guppy_4.0.14/DN467851H_A3_F3_G3_H3 --calib_detect -c dna_r9.4.1_450bps_hac_prom.cfg --num_callers 16 --recursive --device 'auto' --records_per_fastq 0 --disable_pings --compress_fastq --barcode_kits EXP-NBD104 --trim_barcodes\"\n",
      "Job <9874321> is submitted to default queue <research-rh74>.\n"
     ]
    }
   ],
   "source": [
    "outdir = \"./fastq/guppy_4.0.14\"\n",
    "mkdir(outdir)\n",
    "\n",
    "for fast5_dir in glob.glob(\"fast5/*\"):\n",
    "    group_name = os.path.split(fast5_dir)[-1]\n",
    "    print (group_name)\n",
    "    \n",
    "    group_outdir = f\"{outdir}/{group_name}\"\n",
    "    mkdir(group_outdir)\n",
    "    \n",
    "    stdout_fp = f\"{group_outdir}/bsub.err\"\n",
    "    stderr_fp = f\"{group_outdir}/bsub.out\"\n",
    "    \n",
    "    # Base command\n",
    "    cmd = f\"ont_guppy_4.0.14 -i {fast5_dir} -s {group_outdir} --calib_detect -c dna_r9.4.1_450bps_hac_prom.cfg --num_callers 16 --recursive --device 'auto' --records_per_fastq 0 --disable_pings --compress_fastq --barcode_kits EXP-NBD104 --trim_barcodes\"\n",
    "    \n",
    "    gpu = \"gpu-010\"\n",
    "    bsub(cmd=cmd, job_name=f\"Guppy_{group_name}\", conda=\"ont_guppy\", stdout_fp=stdout_fp, stderr_fp=stderr_fp, other_options=f\"-P gpu -gpu - -m {gpu}\", mem=20000, dry=False)"
   ]
  },
  {
   "cell_type": "markdown",
   "metadata": {
    "heading_collapsed": true
   },
   "source": [
    "## pycoQC Barcode_split"
   ]
  },
  {
   "cell_type": "code",
   "execution_count": 7,
   "metadata": {
    "ExecuteTime": {
     "end_time": "2020-10-21T10:02:32.085955Z",
     "start_time": "2020-10-21T10:02:28.869439Z"
    },
    "hidden": true,
    "scrolled": true
   },
   "outputs": [
    {
     "name": "stdout",
     "output_type": "stream",
     "text": [
      "Process DN467851H_A3_F3_G3_H3bsub -J Barcode_split_DN467851H_A3_F3_G3_H3 -M 30000 -R 'rusage[mem=30000]'  \"Barcode_split -f fastq/guppy_4.0.14/DN467851H_A3_F3_G3_H3//sequencing_summary.txt --output_dir fastq/guppy_4.0.14/DN467851H_A3_F3_G3_H3/\"\n",
      "Job <2523722> is submitted to default queue <research-rh74>.\n",
      "Process DN467851H_B2_C2_E2_F2bsub -J Barcode_split_DN467851H_B2_C2_E2_F2 -M 30000 -R 'rusage[mem=30000]'  \"Barcode_split -f fastq/guppy_4.0.14/DN467851H_B2_C2_E2_F2//sequencing_summary.txt --output_dir fastq/guppy_4.0.14/DN467851H_B2_C2_E2_F2/\"\n",
      "Job <2523723> is submitted to default queue <research-rh74>.\n",
      "Process DN467851H_C4_F4_H4_A5bsub -J Barcode_split_DN467851H_C4_F4_H4_A5 -M 30000 -R 'rusage[mem=30000]'  \"Barcode_split -f fastq/guppy_4.0.14/DN467851H_C4_F4_H4_A5//sequencing_summary.txt --output_dir fastq/guppy_4.0.14/DN467851H_C4_F4_H4_A5/\"\n",
      "Job <2523725> is submitted to default queue <research-rh74>.\n"
     ]
    }
   ],
   "source": [
    "for group in (\"DN467851H_A3_F3_G3_H3\", \"DN467851H_B2_C2_E2_F2\", \"DN467851H_C4_F4_H4_A5\"):\n",
    "    stdout_print(f\"Process {group}\")\n",
    "    work_dir = f\"fastq/guppy_4.0.14/{group}/\"\n",
    "    summary_file = f\"{work_dir}/sequencing_summary.txt\"\n",
    "    bsub(conda=\"pycoQC\", cmd=f\"Barcode_split -f {summary_file} --output_dir {work_dir}\", dry=False, mem=30000, job_name=f\"Barcode_split_{group}\")"
   ]
  },
  {
   "cell_type": "markdown",
   "metadata": {
    "heading_collapsed": true
   },
   "source": [
    "## make sample sheet"
   ]
  },
  {
   "cell_type": "code",
   "execution_count": 36,
   "metadata": {
    "ExecuteTime": {
     "end_time": "2020-10-21T11:00:51.605406Z",
     "start_time": "2020-10-21T11:00:37.327983Z"
    },
    "hidden": true
   },
   "outputs": [
    {
     "name": "stdout",
     "output_type": "stream",
     "text": [
      "sample_id fastq                     fast5                     seq_summary               barcode   run_group             \n",
      "117-2_C4  /hps/research1/birney/use /hps/research1/birney/use /hps/research1/birney/use barcode01 DN467851H_C4_F4_H4_A5 \n",
      "131-1_F4  /hps/research1/birney/use /hps/research1/birney/use /hps/research1/birney/use barcode02 DN467851H_C4_F4_H4_A5 \n",
      "134-1_H4  /hps/research1/birney/use /hps/research1/birney/use /hps/research1/birney/use barcode03 DN467851H_C4_F4_H4_A5 \n",
      "134-2_A5  /hps/research1/birney/use /hps/research1/birney/use /hps/research1/birney/use barcode04 DN467851H_C4_F4_H4_A5 \n",
      "4-1_B2    /hps/research1/birney/use /hps/research1/birney/use /hps/research1/birney/use barcode05 DN467851H_B2_C2_E2_F2 \n",
      "4-2_C2    /hps/research1/birney/use /hps/research1/birney/use /hps/research1/birney/use barcode06 DN467851H_B2_C2_E2_F2 \n",
      "7-1_E2    /hps/research1/birney/use /hps/research1/birney/use /hps/research1/birney/use barcode07 DN467851H_B2_C2_E2_F2 \n",
      "7-2_F2    /hps/research1/birney/use /hps/research1/birney/use /hps/research1/birney/use barcode08 DN467851H_B2_C2_E2_F2 \n",
      "11-1_A3   /hps/research1/birney/use /hps/research1/birney/use /hps/research1/birney/use barcode09 DN467851H_A3_F3_G3_H3 \n",
      "\n"
     ]
    }
   ],
   "source": [
    "lt = namedtuple(\"lt\", [\"sample_id\",\"barcode\",\"run_group\"])\n",
    "sample_info_list = [\n",
    "    lt('117-2_C4', \"barcode01\", \"DN467851H_C4_F4_H4_A5\"),\n",
    "    lt('131-1_F4', \"barcode02\", \"DN467851H_C4_F4_H4_A5\"),\n",
    "    lt('134-1_H4', \"barcode03\", \"DN467851H_C4_F4_H4_A5\"),\n",
    "    lt('134-2_A5', \"barcode04\", \"DN467851H_C4_F4_H4_A5\"),\n",
    "    lt('4-1_B2', \"barcode05\", \"DN467851H_B2_C2_E2_F2\"),\n",
    "    lt('4-2_C2', \"barcode06\", \"DN467851H_B2_C2_E2_F2\"),\n",
    "    lt('7-1_E2', \"barcode07\", \"DN467851H_B2_C2_E2_F2\"),\n",
    "    lt('7-2_F2', \"barcode08\", \"DN467851H_B2_C2_E2_F2\"),\n",
    "    lt('11-1_A3', \"barcode09\", \"DN467851H_A3_F3_G3_H3\"),\n",
    "    lt('69-1_F3', \"barcode10\", \"DN467851H_A3_F3_G3_H3\"),\n",
    "    lt('79-2_G3', \"barcode11\", \"DN467851H_A3_F3_G3_H3\"),\n",
    "    lt('80-1_H3', \"barcode12\", \"DN467851H_A3_F3_G3_H3\")]\n",
    "\n",
    "fn = \"sample_sheet.tsv\"\n",
    "with open (fn, \"w\") as fp:\n",
    "    header = [\"sample_id\",\"fastq\",\"fast5\",\"seq_summary\",\"barcode\",\"run_group\"]\n",
    "    fp.write(\"\\t\".join(header)+\"\\n\")\n",
    "    for sample_info in sample_info_list:\n",
    "        fast5 = os.path.abspath(f\"./fast5/{sample_info.run_group}/\")\n",
    "        fastq = os.path.abspath(f\"./fastq/guppy_4.0.14/{sample_info.run_group}/{sample_info.barcode}/\")\n",
    "        seq_summary = os.path.abspath(f\"./fastq/guppy_4.0.14/{sample_info.run_group}/sequencing_summary_{sample_info.barcode}.txt\")\n",
    "        \n",
    "        assert (os.access(fast5, os.R_OK))\n",
    "        assert (os.access(fastq, os.R_OK))\n",
    "        assert (os.access(seq_summary, os.R_OK))\n",
    "        \n",
    "        info = [sample_info.sample_id, fastq, fast5, seq_summary, sample_info.barcode, sample_info.run_group]\n",
    "        fp.write(\"\\t\".join(info)+\"\\n\")\n",
    "        \n",
    "head(fn, max_char_col=25, max_char_line=500)"
   ]
  }
 ],
 "metadata": {
  "celltoolbar": "Initialization Cell",
  "kernelspec": {
   "display_name": "Python [conda env:Python3.7]",
   "language": "python",
   "name": "conda-env-Python3.7-py"
  },
  "language_info": {
   "codemirror_mode": {
    "name": "ipython",
    "version": 3
   },
   "file_extension": ".py",
   "mimetype": "text/x-python",
   "name": "python",
   "nbconvert_exporter": "python",
   "pygments_lexer": "ipython3",
   "version": "3.7.7"
  }
 },
 "nbformat": 4,
 "nbformat_minor": 2
}
